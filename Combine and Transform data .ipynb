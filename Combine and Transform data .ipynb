{
 "cells": [
  {
   "cell_type": "code",
   "execution_count": 1,
   "metadata": {
    "collapsed": true
   },
   "outputs": [],
   "source": [
    "import json"
   ]
  },
  {
   "cell_type": "code",
   "execution_count": 3,
   "metadata": {
    "collapsed": true
   },
   "outputs": [],
   "source": [
    "def open_json(filename):\n",
    "    with open(filename,'r') as f:\n",
    "        data = json.load(f)\n",
    "    return data"
   ]
  },
  {
   "cell_type": "code",
   "execution_count": 4,
   "metadata": {
    "collapsed": true
   },
   "outputs": [],
   "source": [
    "basic_data = open_json('basic_10000.json')"
   ]
  },
  {
   "cell_type": "code",
   "execution_count": 8,
   "metadata": {},
   "outputs": [],
   "source": [
    "decisions_data = open_json('decisions_10000.json')"
   ]
  },
  {
   "cell_type": "code",
   "execution_count": 9,
   "metadata": {
    "collapsed": true
   },
   "outputs": [],
   "source": [
    "details_data = open_json('details_10000.json')"
   ]
  },
  {
   "cell_type": "code",
   "execution_count": 10,
   "metadata": {},
   "outputs": [
    {
     "data": {
      "text/plain": [
       "{'DOB': '1994-06-08T22:11:38Z',\n",
       " 'address': '549 MOUNTAINVIEW DR.',\n",
       " 'city': 'Akutan',\n",
       " 'collection_id': 'V_Participant',\n",
       " 'id': '1318',\n",
       " 'latitude': 54,\n",
       " 'longitude': -166,\n",
       " 'name': 'DELUCCA,SHALEE V',\n",
       " 'sex': 'M',\n",
       " 'state': 'Alaska'}"
      ]
     },
     "execution_count": 10,
     "metadata": {},
     "output_type": "execute_result"
    }
   ],
   "source": [
    "basic_data[0]"
   ]
  },
  {
   "cell_type": "code",
   "execution_count": 11,
   "metadata": {},
   "outputs": [
    {
     "data": {
      "text/plain": [
       "{'BRONZE': 27,\n",
       " 'GOLD': 82,\n",
       " 'PLATINUM': 126,\n",
       " 'PURCHASED': 'Platinum',\n",
       " 'SILVER': 49,\n",
       " 'collection_id': 'v_quotes',\n",
       " 'id': '1318'}"
      ]
     },
     "execution_count": 11,
     "metadata": {},
     "output_type": "execute_result"
    }
   ],
   "source": [
    "decisions_data[0]"
   ]
  },
  {
   "cell_type": "code",
   "execution_count": 12,
   "metadata": {},
   "outputs": [
    {
     "data": {
      "text/plain": [
       "{'ANNUAL_INCOME': 100000,\n",
       " 'EMPLOYMENT_STATUS': 'Unemployed',\n",
       " 'HEIGHT': 52,\n",
       " 'MARITAL_STATUS': 'S',\n",
       " 'OPTIONAL_INSURED': 600000,\n",
       " 'PEOPLE_COVERED': 1,\n",
       " 'PRE_CONDITIONS': '[{\"condition_name\":\"Unspecified fracture of specified metacarpal bone with unspecified laterality\",\"ICD_CODE\":\"S62.308\",\"Risk_factor\":\"Low\"},{\"condition_name\":\"Ataxic cerebral palsy\",\"ICD_CODE\":\"G80.4\",\"Risk_factor\":\"Medium\"},{\"condition_name\":\"Other abnormalities of heart beat\",\"ICD_CODE\":\"R00.8\",\"Risk_factor\":\"Low\"},{\"condition_name\":\"Displacement of permanent\\xa0sutures, initial encounter\",\"ICD_CODE\":\"T85.622\",\"Risk_factor\":\"Low\"},{\"condition_name\":\"Peanut Allergy\",\"ICD_CODE\":\"Z91.010\",\"Risk_factor\":\"Low\"},{\"condition_name\":\"Broken internal left hip prosthesis, initial encounter\",\"ICD_CODE\":\"T84.011\",\"Risk_factor\":\"Low\"},{\"condition_name\":\"cough with hemorrhage\",\"ICD_CODE\":\"R04.2\",\"Risk_factor\":\"Low\"},{\"condition_name\":\"Obstructive Sleep Apnea\",\"ICD_CODE\":\"G47.33\",\"Risk_factor\":\"Low\"},{\"condition_name\":\"Tachycardia, unspecified\",\"ICD_CODE\":\"R00.0\",\"Risk_factor\":\"Low\"},{\"condition_name\":\"Diarrhea, unspecified\",\"ICD_CODE\":\"R19.7\",\"Risk_factor\":\"Low\"}]',\n",
       " 'TOBACCO': 'No',\n",
       " 'WEIGHT': 198,\n",
       " 'collection_id': 'V_Participant_detail',\n",
       " 'id': '1318'}"
      ]
     },
     "execution_count": 12,
     "metadata": {},
     "output_type": "execute_result"
    }
   ],
   "source": [
    "details_data[0]"
   ]
  },
  {
   "cell_type": "code",
   "execution_count": null,
   "metadata": {
    "collapsed": true
   },
   "outputs": [],
   "source": [
    "states = {}\n",
    "for user in basic_data:\n",
    "    if user['state'] in states:\n",
    "    "
   ]
  }
 ],
 "metadata": {
  "kernelspec": {
   "display_name": "Python 3",
   "language": "python",
   "name": "python3"
  },
  "language_info": {
   "codemirror_mode": {
    "name": "ipython",
    "version": 3
   },
   "file_extension": ".py",
   "mimetype": "text/x-python",
   "name": "python",
   "nbconvert_exporter": "python",
   "pygments_lexer": "ipython3",
   "version": "3.6.3"
  }
 },
 "nbformat": 4,
 "nbformat_minor": 2
}
